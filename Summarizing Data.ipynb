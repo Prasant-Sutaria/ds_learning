{
 "cells": [
  {
   "cell_type": "markdown",
   "metadata": {},
   "source": [
    "Greg was 14, Marcia was 12, Peter was 11, Jan was 10, Bobby was 8, and Cindy was 6 when they started playing the Brady kids on The Brady Bunch. Cousin Oliver was 8 years old when he joined the show. What are the mean, median, and mode of the kids' ages when they first appeared on the show? What are the variance, standard deviation, and standard error?"
   ]
  },
  {
   "cell_type": "code",
   "execution_count": 15,
   "metadata": {},
   "outputs": [
    {
     "name": "stdout",
     "output_type": "stream",
     "text": [
      "Mean: 9.85714285714\n",
      "Median: 10.0\n",
      "Mode: 8\n",
      "Variance of Sample: 6.40816326531\n",
      "Standard Deviation of Sample: 2.53143502095\n",
      "Standard Error of Sample: 1.03345401972\n"
     ]
    }
   ],
   "source": [
    "import numpy as nm\n",
    "import pandas as pn\n",
    "\n",
    "actors_age= [14,12,11,10,8,8,6]\n",
    "\n",
    "def summary_actors_age_data(actors_age):\n",
    "    #mean\n",
    "    mean_of_ages = nm.mean(actors_age)\n",
    "\n",
    "    #median\n",
    "    median_of_ages = nm.median(actors_age)\n",
    "\n",
    "    #mode\n",
    "    (value,count) = nm.unique(actors_age,return_counts=True)\n",
    "    index_of_max_occurance = nm.argmax(count)\n",
    "    mode_of_ages = value[index_of_max_occurance]\n",
    "\n",
    "    print('Mean: ' + str(mean_of_ages))\n",
    "    print('Median: ' + str(median_of_ages))\n",
    "    print('Mode: ' + str(mode_of_ages))\n",
    "\n",
    "    #Variance\n",
    "    variance_of_ages_sample = nm.var(actors_age)\n",
    "    print('Variance of Sample: ' + str(variance_of_ages_sample))\n",
    "\n",
    "    #Standard Deviation\n",
    "    std_of_ages_sample = nm.std(actors_age)\n",
    "    print('Standard Deviation of Sample: ' + str(std_of_ages_sample))\n",
    "\n",
    "    #Standard Error\n",
    "    length_of_sample = len(actors_age)\n",
    "    std_err_of_ages_sample = std_of_ages_sample/nm.sqrt(length_of_sample-1)\n",
    "    print('Standard Error of Sample: ' + str(std_err_of_ages_sample))\n",
    "\n",
    "summary_actors_age_data(actors_age)"
   ]
  },
  {
   "cell_type": "markdown",
   "metadata": {},
   "source": [
    "Using these estimates, if you had to choose only one estimate of central tendency and one estimate of variance to describe the data, which would you pick and why?"
   ]
  },
  {
   "cell_type": "markdown",
   "metadata": {},
   "source": [
    "What basis should we decide what to use?"
   ]
  },
  {
   "cell_type": "markdown",
   "metadata": {},
   "source": [
    "Next, Cindy has a birthday. Update your estimates- what changed, and what didn't?"
   ]
  },
  {
   "cell_type": "code",
   "execution_count": 16,
   "metadata": {},
   "outputs": [
    {
     "name": "stdout",
     "output_type": "stream",
     "text": [
      "Mean: 10.0\n",
      "Median: 10.0\n",
      "Mode: 8\n",
      "Variance of Sample: 5.42857142857\n",
      "Standard Deviation of Sample: 2.32992949004\n",
      "Standard Error of Sample: 0.951189731211\n"
     ]
    }
   ],
   "source": [
    "updated_actors_age_1= [14,12,11,10,8,8,7]\n",
    "summary_actors_age_data(updated_actors_age_1)"
   ]
  },
  {
   "cell_type": "markdown",
   "metadata": {},
   "source": [
    "Median and Mode remained the unaffected from Cindy's birthday."
   ]
  },
  {
   "cell_type": "markdown",
   "metadata": {},
   "source": [
    "Nobody likes Cousin Oliver. Maybe the network should have used an even younger actor. Replace Cousin Oliver with 1-year-old Jessica, then recalculate again. Does this change your choice of central tendency or variance estimation methods?"
   ]
  },
  {
   "cell_type": "code",
   "execution_count": 18,
   "metadata": {},
   "outputs": [
    {
     "name": "stdout",
     "output_type": "stream",
     "text": [
      "Mean: 9.0\n",
      "Median: 10.0\n",
      "Mode: 1\n",
      "Variance of Sample: 15.4285714286\n",
      "Standard Deviation of Sample: 3.92792202425\n",
      "Standard Error of Sample: 1.60356745147\n"
     ]
    }
   ],
   "source": [
    "updated_actors_age_2 = [14,12,11,10,8,1,7]\n",
    "summary_actors_age_data(updated_actors_age_2)"
   ]
  },
  {
   "cell_type": "markdown",
   "metadata": {},
   "source": [
    "On the 50th anniversary of The Brady Bunch, four different magazines asked their readers whether they were fans of the show. The answers were: TV Guide 20% fans Entertainment Weekly 23% fans Pop Culture Today 17% fans SciPhi Phanatic 5% fans. Based on these numbers, what percentage of adult Americans would you estimate were Brady Bunch fans on the 50th anniversary of the show?"
   ]
  },
  {
   "cell_type": "code",
   "execution_count": 22,
   "metadata": {},
   "outputs": [
    {
     "name": "stdout",
     "output_type": "stream",
     "text": [
      "Percentage of Adult fans: 16.25\n"
     ]
    }
   ],
   "source": [
    "adult_fans_percentage=[20,23,17,5]\n",
    "percentage_of_adult_fans = nm.mean(adult_fans_percentage)\n",
    "print('Percentage of Adult fans: ' + str(percentage_of_adult_fans))"
   ]
  },
  {
   "cell_type": "code",
   "execution_count": null,
   "metadata": {
    "collapsed": true
   },
   "outputs": [],
   "source": []
  }
 ],
 "metadata": {
  "kernelspec": {
   "display_name": "Python 3",
   "language": "python",
   "name": "python3"
  },
  "language_info": {
   "codemirror_mode": {
    "name": "ipython",
    "version": 3
   },
   "file_extension": ".py",
   "mimetype": "text/x-python",
   "name": "python",
   "nbconvert_exporter": "python",
   "pygments_lexer": "ipython3",
   "version": "3.6.3"
  }
 },
 "nbformat": 4,
 "nbformat_minor": 2
}
