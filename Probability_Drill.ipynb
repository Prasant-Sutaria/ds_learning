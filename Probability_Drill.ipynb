{
 "cells": [
  {
   "cell_type": "markdown",
   "metadata": {},
   "source": [
    "Calculate the probability of flipping a balanced coin four times and getting each pattern: HTTH, HHHH and TTHH.\n",
    "\n",
    "P(HTTH)\n",
    "\n",
    "P(H) = 1/2\n",
    "P(T) = 1/2\n",
    "\n",
    "P(HTTH) = 1/16\n",
    "P(HHHH) = 1/16\n",
    "p(TTHH) = 1/16\n",
    "\n",
    "================================\n",
    "\n",
    "If a list of people has 24 women and 21 men, then the probability of choosing a man from the list is 21/45. What is the probability of not choosing a man?\n",
    "\n",
    "P(man) = 21/45\n",
    "\n",
    "P(not man) = 1-21/45 = 24/45 (Probability of choosing a women)\n",
    "\n",
    "================================\n",
    "\n",
    "The probability that Bernice will travel by plane sometime in the next year is 10%. The probability of a plane crash at any time is .005%. What is the probability that Bernice will be in a plane crash sometime in the next year?\n",
    "\n",
    "P(Bernice travelling by plane) = .1\n",
    "P(Plane crash) = .00005\n",
    "\n",
    "P(Bernice travelling by plane ∩ plane crash) = .1 * .00005 = 0.000005\n",
    "\n",
    "================================\n",
    "\n",
    "A data scientist wants to study the behavior of users on the company website. Each time a user clicks on a link on the website, there is a 5% chance that the user will be asked to complete a short survey about their behavior on the website. The data scientist uses the survey data to conclude that, on average, users spend 15 minutes surfing the company website before moving on to other things. What is wrong with this conclusion?\n",
    "\n",
    "The conclusion is made on 5% samples, who answered the survey. Those 5% users are biased as they had time to fill the survey.\n"
   ]
  }
 ],
 "metadata": {
  "kernelspec": {
   "display_name": "Python 3",
   "language": "python",
   "name": "python3"
  },
  "language_info": {
   "codemirror_mode": {
    "name": "ipython",
    "version": 3
   },
   "file_extension": ".py",
   "mimetype": "text/x-python",
   "name": "python",
   "nbconvert_exporter": "python",
   "pygments_lexer": "ipython3",
   "version": "3.6.3"
  }
 },
 "nbformat": 4,
 "nbformat_minor": 2
}
