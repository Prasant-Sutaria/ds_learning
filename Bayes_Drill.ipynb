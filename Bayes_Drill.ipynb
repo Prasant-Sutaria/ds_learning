{
 "cells": [
  {
   "cell_type": "markdown",
   "metadata": {},
   "source": [
    "P(Positive result for TD) = 0.98\n",
    "P(False Positive) = 0.10\n",
    "P(TD Disease) = 0.005\n",
    "\n",
    "1. Be positive\n",
    "P(Positive result for a Person irrespective of infection) = P(Positive Infected Person) + P(Positive non-Infected Person)\n",
    "\n",
    "P(Positive Infected Person) = 0.98*0.005 = 0.0049\n",
    "P(Positive non-Infected Person) = 0.10*0.995 = 0.0995\n",
    "\n",
    "P(Positive result for a Person irrespective of infection) = 0.0049 + 0.0995 = 0.1044\n",
    "\n",
    "===============================================\n",
    "\n",
    "2. Correctly diagnose a sufferer of Thripshaw's\n",
    "P(Positive result for TD) = 0.98\n",
    "\n",
    "===============================================\n",
    "\n",
    "3. Correctly identify a non-sufferer of Thripshaw's\n",
    "P(Identifying non sufferer) = 1 - P(Positive non-Infected Person) = 1 - 0.0995 = 0.9005\n",
    "\n",
    "===============================================\n",
    "\n",
    "4. Misclassify the person\n",
    " P(False Positive + False Negetive) = 1 - [P(Positive Infected Person) + P(Identifying non sufferer)]\n",
    " 1 - [0.0049 + 0.9005] = 0.0946\n"
   ]
  }
 ],
 "metadata": {
  "kernelspec": {
   "display_name": "Python 3",
   "language": "python",
   "name": "python3"
  },
  "language_info": {
   "codemirror_mode": {
    "name": "ipython",
    "version": 3
   },
   "file_extension": ".py",
   "mimetype": "text/x-python",
   "name": "python",
   "nbconvert_exporter": "python",
   "pygments_lexer": "ipython3",
   "version": "3.6.3"
  }
 },
 "nbformat": 4,
 "nbformat_minor": 2
}
